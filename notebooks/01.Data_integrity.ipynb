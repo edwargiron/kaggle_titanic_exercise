{
 "cells": [
  {
   "cell_type": "markdown",
   "id": "0c9a86e8-071c-442e-80c2-ff7b46176cc1",
   "metadata": {
    "jp-MarkdownHeadingCollapsed": true,
    "tags": []
   },
   "source": [
    "# Libraries"
   ]
  },
  {
   "cell_type": "code",
   "execution_count": null,
   "id": "b7d31004-30b9-4847-8f70-10544c86917d",
   "metadata": {
    "tags": []
   },
   "outputs": [],
   "source": [
    "import pandas as pd\n",
    "from deepchecks.tabular import Dataset\n",
    "from deepchecks.tabular.suites import data_integrity"
   ]
  },
  {
   "cell_type": "markdown",
   "id": "c9714488-155c-450a-88cf-1585f24fe6fd",
   "metadata": {
    "tags": []
   },
   "source": [
    "# Challenge: \"Titanic ML Competition\""
   ]
  },
  {
   "cell_type": "markdown",
   "id": "991ed06f-bd81-46d0-b21d-52ef5061bb50",
   "metadata": {
    "jp-MarkdownHeadingCollapsed": true,
    "tags": []
   },
   "source": [
    "## Challenge:\n",
    "\n",
    "    Use machine learning to create a model that predicts which passengers survived the Titanic shipwreck.\n",
    "\n",
    "## Question:\n",
    "    what sorts of people were more likely to survive?\n",
    "    \n",
    "## Source:\n",
    "https://www.kaggle.com/c/titanic/data"
   ]
  },
  {
   "cell_type": "markdown",
   "id": "a45db02c-5a0f-41f7-bd3a-906fc5b7e096",
   "metadata": {
    "jp-MarkdownHeadingCollapsed": true,
    "tags": []
   },
   "source": [
    "# Data Summary"
   ]
  },
  {
   "cell_type": "code",
   "execution_count": null,
   "id": "f30d22cf-7e6e-4cb1-b282-4f00122caa3d",
   "metadata": {
    "tags": []
   },
   "outputs": [],
   "source": [
    "#Load data\n",
    "raw_train_data = pd.read_csv(\"../data/raw/train.csv\")\n",
    "raw_test_data = pd.read_csv(\"../data/raw/test.csv\")"
   ]
  },
  {
   "cell_type": "code",
   "execution_count": null,
   "id": "9ab7265b-19a0-425b-a7a8-02d1705489cd",
   "metadata": {
    "tags": []
   },
   "outputs": [],
   "source": [
    "#Review shape\n",
    "print(\"*\"*10)\n",
    "print(f'train shape: {raw_train_data.shape}')\n",
    "print(f'test shape: {raw_test_data.shape}')\n",
    "print(\"*\"*10)\n",
    "\n",
    "#Review columns\n",
    "print(f'train columns: {raw_train_data.columns}')\n",
    "print(f'test columns: {raw_test_data.columns}')\n",
    "print(\"*\"*10)\n",
    "\n",
    "#Review data structure info\n",
    "print(f'train info: {raw_train_data.info()}')\n",
    "print(f'test info: {raw_test_data.info()}')\n",
    "print(\"*\"*10)\n",
    "\n",
    "#Review summary\n",
    "print(f'train summary:\\n {raw_train_data.describe()}')\n",
    "print(f'test summary:\\n {raw_test_data.describe()}')\n",
    "print(\"*\"*10)"
   ]
  },
  {
   "cell_type": "code",
   "execution_count": null,
   "id": "7d8f052c-3b3e-4444-9ff0-8f84ffb2ef9c",
   "metadata": {
    "tags": []
   },
   "outputs": [],
   "source": [
    "#Review some rows\n",
    "raw_train_data.head(5)"
   ]
  },
  {
   "cell_type": "markdown",
   "id": "0b688b59-d5ec-46e1-8ac6-5fbb638ee688",
   "metadata": {},
   "source": [
    "By the description in this link (https://www.kaggle.com/c/titanic/data) there are some categorical features (pclass, sex, survival, embarked, cabin), some numerical features (fare, parch, sibsp. Age), and some identification features (PassengerId, Name, ticket).\n",
    "\n",
    "Also there are some missing values. In the EDA we will review this data characteristic."
   ]
  },
  {
   "cell_type": "code",
   "execution_count": null,
   "id": "c457757c-c74e-43b2-8842-9a8a70724e76",
   "metadata": {
    "tags": []
   },
   "outputs": [],
   "source": [
    "cat_features = ['Cabin', 'Embarked', 'Sex', 'Pclass']\n",
    "num_features = ['SibSp', 'Parch', 'Fare', 'Age']\n",
    "id_features = ['PassengerId', 'Name', 'Ticket']\n",
    "target = 'Survived'"
   ]
  },
  {
   "cell_type": "markdown",
   "id": "031b049d-0a45-4213-a2ff-cfe5d32cfe31",
   "metadata": {
    "jp-MarkdownHeadingCollapsed": true,
    "tags": []
   },
   "source": [
    "# Data Integrity"
   ]
  },
  {
   "cell_type": "code",
   "execution_count": null,
   "id": "7ba2cf06-655c-4a92-b5e9-b1fa3fb25d0a",
   "metadata": {
    "tags": []
   },
   "outputs": [],
   "source": [
    "#Create a dataset without the identification features (by now)\n",
    "train_data = raw_train_data.drop(id_features, axis=1)\n",
    "test_data = raw_test_data.drop(id_features, axis=1)\n",
    "\n",
    "#Create the Dataset according to deepchecks format\n",
    "train_deepchecks = Dataset(\n",
    "    train_data, \n",
    "    cat_features = cat_features,\n",
    "    label = target\n",
    ")"
   ]
  },
  {
   "cell_type": "code",
   "execution_count": null,
   "id": "9e702308-67a3-454a-98ae-ee5b5edbee1b",
   "metadata": {
    "tags": []
   },
   "outputs": [],
   "source": [
    "#Run the data integrity test\n",
    "integrity_suite = data_integrity()\n",
    "integrity_results = integrity_suite.run(train_deepchecks)\n",
    "integrity_results.save_as_html(\"../docs/data_integrity_report_train.html\")"
   ]
  },
  {
   "cell_type": "markdown",
   "id": "b01dc874-cd59-496a-b21f-a66f79020ada",
   "metadata": {},
   "source": [
    "The data integrity evaluation shows that:\n",
    "- We need to review the importance of the \"Cabin\" feature because of this feature has a high correlation with other features. \n",
    "\n",
    "- There are some rows (4.83% of the total data) with the same information but different survival predictions. This phenomenon could be appear due to missing values in some columns, it is important to make a \"missing values\" analysis. \n",
    "\n",
    "- There are data duplicates, but this behavior in the data is expected due to we dropped the identification columns and many people can share the same characteristics."
   ]
  }
 ],
 "metadata": {
  "kernelspec": {
   "display_name": "Python 3 (ipykernel)",
   "language": "python",
   "name": "python3"
  },
  "language_info": {
   "codemirror_mode": {
    "name": "ipython",
    "version": 3
   },
   "file_extension": ".py",
   "mimetype": "text/x-python",
   "name": "python",
   "nbconvert_exporter": "python",
   "pygments_lexer": "ipython3",
   "version": "3.9.15"
  }
 },
 "nbformat": 4,
 "nbformat_minor": 5
}
